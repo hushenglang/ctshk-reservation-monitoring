{
 "cells": [
  {
   "cell_type": "code",
   "execution_count": 58,
   "id": "2dc1e0d5-2564-4883-a5c3-4a9446519e9d",
   "metadata": {},
   "outputs": [],
   "source": [
    "import pyscreenshot\n",
    "from PIL import Image\n",
    "from pytesseract import pytesseract\n",
    "import re\n",
    "import os\n",
    "from time import gmtime, strftime, time"
   ]
  },
  {
   "cell_type": "markdown",
   "id": "f5963ba2-6d3a-4591-95fd-cdf7c19417d2",
   "metadata": {},
   "source": [
    "## 1. screenshot "
   ]
  },
  {
   "cell_type": "code",
   "execution_count": 4,
   "id": "7c3f77ed-cb81-4cdb-9ad5-22dc30c2e624",
   "metadata": {},
   "outputs": [
    {
     "name": "stdout",
     "output_type": "stream",
     "text": [
      "<PIL.PngImagePlugin.PngImageFile image mode=RGBA size=5120x2880 at 0x7F9380130310>\n"
     ]
    }
   ],
   "source": [
    "screenshot=pyscreenshot.grab()\n",
    "print(screenshot)\n",
    "screenshot.save('ctshk.png')"
   ]
  },
  {
   "cell_type": "markdown",
   "id": "518d1848-843d-401f-abe8-b87b2ec75eea",
   "metadata": {},
   "source": [
    "## 2. OCR to get all text"
   ]
  },
  {
   "cell_type": "code",
   "execution_count": 14,
   "id": "a0b1c60b-775f-4c65-89d8-cfd3da67a0aa",
   "metadata": {},
   "outputs": [
    {
     "name": "stdout",
     "output_type": "stream",
     "text": [
      "4 Chrome File Edit View History Bookmarks Profiles Tab Window’ Help x © GY asc (42) Tue Mar 7 08:07\n",
      "\n",
      "# PREVA (244 He) x @ (129) React JS Tutorial ForBe x G react.js - Google #3 x G react.js - Google #3 x & React — A JavaScript library fo x G auto fresh website - Google? x | € (129) distill - YouTube x 6 Distill.io Chrome Extension -! xX @ Distill Web Monitor - Chrome’ xX 6 Distill.io Chrome Extension -! xX + v\n",
      "\n",
      "@ distill.io/docs/web-monitor/distill-chrome-extension/?utm_source=install Hox @0 b ts}\n",
      "\n",
      "eee 6 Watc me | regex G monii Mi Pleas | G pythc @ Scree |e Scrip S maco | 3 How pyscr lQ GitHe G Failec nC] (=): lQ tessc mac + Y | ea an\n",
      "Vv\n",
      "\n",
      "€ CGC @ localhost:8888/lab/tree/screen-monitoring.ipynb or* ®@4 Of OT ts}\n",
      "ae ; Gt © Cy 6 °\n",
      "~ File Edit View Run Kernel Tabs Settings Help\n",
      "\n",
      "| + + Cc (% Launcher > [Ml screen-monitoring.ipynb @ t\n",
      "- ce AS RP ROR > BHR IB\n",
      "\n",
      "3 a+xXx Oo © >» = Cc » Code v Python 3 @ ¢ Xx =]\n",
      "\n",
      "o Limited\n",
      "\n",
      "w/ import pyscreenshot\n",
      "\n",
      "from PIL import Image\n",
      "\n",
      ".— Name “ Last Modified from pytesseract import pytesseract BBA PERS Ut fe SSE AS a\n",
      "~ ctshk.png a minute ago\n",
      "\n",
      "* 1. screenshot\n",
      "\n",
      "[x]: screenshot=pyscreenshot.grab()\n",
      "print (screenshot)\n",
      "screenshot. save('ctshk.png')\n",
      "\n",
      "OaRAR\n",
      "\n",
      "2. OCR to get all text O HHeFa\n",
      "\n",
      "© HeFSRSiR\n",
      "image_path = \"ctshk.png\" © Kees\n",
      "text = pytesseract.image_to_string(Image.open(image_path), lang='eng') | © mAs\n",
      "print (text) 0 E518\n",
      "\n",
      "= O HSE Hie\n",
      "\n",
      "@ Chrome File Edit View History Bookmarks Profiles Tab Window Help x © GY asc (22) Tue Mar 7 08:06 © Hiei ee\n",
      "eee 6 Watchlist -h x [RI regex101: bu X G monitorweb X | M Please verify x G pythonscree X @ Screenbaror xX B Script forme X S macos-Ta . gaze\n",
      "k« X | 8 HowtoExtre x pyscreensho X (s) GitHub - Jaic X | S JupyterLab x G Failedloadin x [ERR] Co Xx (s) tessdata/chi Xx mac #38tes: X Nae Ea BY S2EB 21 FEE lie ASS thle See\n",
      "+ Vv gan\n",
      "€ CGC @ localhost: 8888/lab/tree/screen-monitoring.ipynb or* @@4 Of OT ts} : © Kem HE\n",
      "io File Edit View Run Kernel Tabs_ Settings Help SS a HIAAAI AHA: 04/05/2023\n",
      "- x ~ itoring. j 48 Fa\n",
      "BB t CG (% Launcher IN screen-monitoring.ipynb @ oy He\n",
      "\n",
      "@+x 6 @) >» = CG » Code v Python 3 @\n",
      "00 w/ import pyscreenshot\n",
      "\n",
      "from PIL import Image :\n",
      "Name “ Last Modified from pytesseract import pytesseract RA HPAAIAY AHA: 02/05/2023\n",
      "ctshk.png seconds ago , 22;2sR Bee (+ thal\n",
      "\n",
      "+ PR) screen-mo... seconds ago\n",
      "\n",
      "[«]: SEO RIAAAI AKA: 02/05/2023\n",
      "\n",
      "B\n",
      "7\n",
      "\n",
      "Simple 0 G1 & Python 3|Busy thal\n",
      "\n",
      "1. screenshot\n",
      "\n",
      "SEO) FAAIAY AHA: 02/05/2023\n",
      "\n",
      "B\n",
      "7\n",
      "\n",
      "Simple 0 1 Python 3| Busy Saving completed Mode: Command ® Ln2,Col18  screen-monitoring.ipynb\n",
      "< TUBE 7 LEE YS 3 IRIE OSR IE Se ba — HA 202 58 the]\n",
      "\n",
      "Step 1: Open the web page you want to monitor.\n",
      "\n",
      "Change history\n",
      "\n",
      "FAQ\n",
      "\n",
      "Step 2: Click on Distill icon from the Chrome toolbar icon. It will open a small window with a menu. If\n",
      "API access you cannot find the Distill icon, please check chrome://extensions/ and click on “Show button” for\n",
      "Browser extension opens new Distill extension.\n",
      "\n",
      "tab for checks\n",
      "\n",
      "*\n",
      "\n",
      "+\n",
      "\n",
      "pple MacBook Pro (1 Add Monitor Updates fv\n",
      "\n",
      "a ks\n",
      "\n",
      "\n"
     ]
    }
   ],
   "source": [
    "image_path = \"ctshk.png\"\n",
    "text = pytesseract.image_to_string(Image.open(image_path), lang='eng')\n",
    "print(text)"
   ]
  },
  {
   "cell_type": "markdown",
   "id": "8870ad24-4b03-4153-a3c1-f2d0861aea45",
   "metadata": {},
   "source": [
    "## 3. analysis & filter text to get all datetime"
   ]
  },
  {
   "cell_type": "code",
   "execution_count": 77,
   "id": "1644378f-f3e2-4672-89ac-498b51f5245d",
   "metadata": {},
   "outputs": [],
   "source": [
    "regExpression = '[0-1][0-9]\\/03\\/\\d{4}'\n",
    "latestDates = re.findall(regExpression, text)"
   ]
  },
  {
   "cell_type": "markdown",
   "id": "91596939-18a3-470f-ae0b-99ec8ddda51d",
   "metadata": {},
   "source": [
    "## 4. trigger alert if there is datetime is before 20/03"
   ]
  },
  {
   "cell_type": "code",
   "execution_count": 78,
   "id": "72a88db9-b80b-44a5-b0ad-0c928fdb1b58",
   "metadata": {},
   "outputs": [],
   "source": [
    "def notification():\n",
    "    for i in range(5):\n",
    "        os.system('afplay /System/Library/Sounds/Glass.aiff')"
   ]
  },
  {
   "cell_type": "code",
   "execution_count": 85,
   "id": "4e44c643-3209-4e60-8981-b96072b34d4e",
   "metadata": {},
   "outputs": [],
   "source": [
    "def archiveTriggedImage(image):\n",
    "    imageName = strftime(\"%Y-%m-%d %H:%M:%S\", gmtime())\n",
    "    image.save('triggerd_image/ctshk-{}.png'.format(imageName))"
   ]
  },
  {
   "cell_type": "code",
   "execution_count": 84,
   "id": "3ddadf65-93e2-4bfb-be71-c07c68c6c5be",
   "metadata": {},
   "outputs": [],
   "source": [
    "if len(latestDates)>0:\n",
    "    notification()\n",
    "    archiveTriggedImage(screenshot)"
   ]
  },
  {
   "cell_type": "markdown",
   "id": "f8efa33b-7629-4a1f-a468-be6971b8198f",
   "metadata": {},
   "source": [
    "## Explore new approach"
   ]
  },
  {
   "cell_type": "code",
   "execution_count": 2,
   "id": "2f8610c4-cc88-4a3c-a8c8-28739350b558",
   "metadata": {},
   "outputs": [],
   "source": [
    "import requests\n",
    "from requests.cookies import RequesctsCookieJar"
   ]
  },
  {
   "cell_type": "code",
   "execution_count": 23,
   "id": "ed4b62d5-a480-4056-a207-0f80bd40c8a8",
   "metadata": {},
   "outputs": [],
   "source": [
    "url = \"https://www.ctshk.com/pass/change1.jsp\"\n",
    "\n",
    "cookie_jar = {\"JSESSIONID\": \"00001TV-PDpag0mFzIIKvUSs17I:-1\",\n",
    "          \"pll_language\": \"zh\",\n",
    "           \"_ga\": \"GA1.1.1242780874.1678023586\",\n",
    "           \"_ga_G5RX4FKE3N\": \"GS1.1.1678185753.6.1.1678231468.0.0.0\"\n",
    "          }\n",
    "\n",
    "payload = {'bknum': 'AN41423DC79D',\n",
    "          'bthDate': '19860701'}"
   ]
  },
  {
   "cell_type": "code",
   "execution_count": 44,
   "id": "730ac675-3381-46a3-8859-406a3818fcf2",
   "metadata": {},
   "outputs": [],
   "source": [
    "res=requests.post(url, cookies=cookie_jar, data=payload)\n",
    "html_text = res.text"
   ]
  },
  {
   "cell_type": "code",
   "execution_count": 42,
   "id": "b8c620a1-e192-4c40-a43c-80402eb94db5",
   "metadata": {},
   "outputs": [],
   "source": [
    "regExpression = '[0-1][0-9]\\/03\\/\\d{4}'\n",
    "htmlLatestDates = re.findall(regExpression, html_text)"
   ]
  },
  {
   "cell_type": "code",
   "execution_count": 43,
   "id": "9ead9162-afc9-4b92-91eb-168da4e1fbdb",
   "metadata": {},
   "outputs": [
    {
     "data": {
      "text/plain": [
       "[]"
      ]
     },
     "execution_count": 43,
     "metadata": {},
     "output_type": "execute_result"
    }
   ],
   "source": [
    "htmlLatestDates"
   ]
  }
 ],
 "metadata": {
  "kernelspec": {
   "display_name": "Python 3",
   "language": "python",
   "name": "python3"
  },
  "language_info": {
   "codemirror_mode": {
    "name": "ipython",
    "version": 3
   },
   "file_extension": ".py",
   "mimetype": "text/x-python",
   "name": "python",
   "nbconvert_exporter": "python",
   "pygments_lexer": "ipython3",
   "version": "3.8.8"
  }
 },
 "nbformat": 4,
 "nbformat_minor": 5
}
